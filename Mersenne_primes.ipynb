{
  "nbformat": 4,
  "nbformat_minor": 0,
  "metadata": {
    "colab": {
      "name": "Mersenne_primes.ipynb",
      "provenance": []
    },
    "kernelspec": {
      "name": "python3",
      "display_name": "Python 3"
    },
    "language_info": {
      "name": "python"
    }
  },
  "cells": [
    {
      "cell_type": "markdown",
      "metadata": {
        "id": "6JT6u8lPHuno"
      },
      "source": [
        "Generating the list of Mersenne numbers. Mersenne numbers can only be prime if their exponent,  𝑝 , is prime. Make a list of the Mersenne numbers for all primes  𝑝  between 3 and 65 (there should be 17 of them)."
      ]
    },
    {
      "cell_type": "code",
      "metadata": {
        "id": "IELGS9HzHPCV"
      },
      "source": [
        "# First of all lets define a simple function to detect whether number is prime or not \n",
        "def is_prime(number):\n",
        "  if number<2:\n",
        "    return False\n",
        "  else : \n",
        "    for i in range(2,number):\n",
        "      if number%i == 0:\n",
        "        return False \n",
        "  return True"
      ],
      "execution_count": 1,
      "outputs": []
    },
    {
      "cell_type": "code",
      "metadata": {
        "id": "7y2GfhcGIgvh"
      },
      "source": [
        "def mersenne_numbers(n_start, n_end):\n",
        "  mersenne = []\n",
        "  for i in range(n_start,n_end+1):\n",
        "    if is_prime(i):\n",
        "      mersenne.append(2**i-1)\n",
        "  return mersenne \n"
      ],
      "execution_count": 2,
      "outputs": []
    },
    {
      "cell_type": "code",
      "metadata": {
        "colab": {
          "base_uri": "https://localhost:8080/"
        },
        "id": "3jUA9YSIJLZU",
        "outputId": "1ad4434c-0e33-430b-dd63-d1da1e925b56"
      },
      "source": [
        "# Have a look at how large the numbers get. Now not every number is a prime amongst them as we know that vice-versa is not true. \n",
        "# Also reflect upon high tough it is to check these numbers as prime with the conventional methods as numbers are very large. \n",
        "mersenne_numbers(3,65)"
      ],
      "execution_count": 3,
      "outputs": [
        {
          "output_type": "execute_result",
          "data": {
            "text/plain": [
              "[7,\n",
              " 31,\n",
              " 127,\n",
              " 2047,\n",
              " 8191,\n",
              " 131071,\n",
              " 524287,\n",
              " 8388607,\n",
              " 536870911,\n",
              " 2147483647,\n",
              " 137438953471,\n",
              " 2199023255551,\n",
              " 8796093022207,\n",
              " 140737488355327,\n",
              " 9007199254740991,\n",
              " 576460752303423487,\n",
              " 2305843009213693951]"
            ]
          },
          "metadata": {
            "tags": []
          },
          "execution_count": 3
        }
      ]
    },
    {
      "cell_type": "markdown",
      "metadata": {
        "id": "J2z-g73mJ_di"
      },
      "source": [
        "We can test if a Mersenne number is prime using the Lucas-Lehmer test. First let's write a function that generates the sequence used in the test. Given a Mersenne number with exponent $p$, the sequence can be defined as\n",
        "\n",
        "$$ n_0 = 4 $$\n",
        "$$ n_i = (n_{i-1}^2 - 2) mod (2^p - 1) $$\n",
        "\n",
        "Write a function that accepts the exponent $p$ of a Mersenne number and returns the Lucas-Lehmer sequence up to $i = p - 2$ (inclusive). "
      ]
    },
    {
      "cell_type": "code",
      "metadata": {
        "id": "INXweVTJJ_I8"
      },
      "source": [
        "def lucas_lehmer(p):\n",
        "  n_0 = 4\n",
        "  x = 2**p-1\n",
        "  lucas_lehmer_series = []\n",
        "  lucas_lehmer_series.append(n_0)\n",
        "  for i in range(0,p-2):\n",
        "    n_0 = (n_0**2-2)%x\n",
        "    lucas_lehmer_series.append(n_0)\n",
        "  return lucas_lehmer_series\n",
        "\n"
      ],
      "execution_count": 4,
      "outputs": []
    },
    {
      "cell_type": "code",
      "metadata": {
        "colab": {
          "base_uri": "https://localhost:8080/"
        },
        "id": "YRRJS0aSJOee",
        "outputId": "38eeb550-2c7b-42bb-9fe0-5e5bd1503c74"
      },
      "source": [
        "lucas_lehmer(17)"
      ],
      "execution_count": 5,
      "outputs": [
        {
          "output_type": "execute_result",
          "data": {
            "text/plain": [
              "[4,\n",
              " 14,\n",
              " 194,\n",
              " 37634,\n",
              " 95799,\n",
              " 119121,\n",
              " 66179,\n",
              " 53645,\n",
              " 122218,\n",
              " 126220,\n",
              " 70490,\n",
              " 69559,\n",
              " 99585,\n",
              " 78221,\n",
              " 130559,\n",
              " 0]"
            ]
          },
          "metadata": {
            "tags": []
          },
          "execution_count": 5
        }
      ]
    },
    {
      "cell_type": "code",
      "metadata": {
        "colab": {
          "base_uri": "https://localhost:8080/"
        },
        "id": "yYiR0PMsLRab",
        "outputId": "8a54f944-1a9c-4947-f5ae-69e0eacc9d1e"
      },
      "source": [
        "print(len(lucas_lehmer(17)))"
      ],
      "execution_count": 7,
      "outputs": [
        {
          "output_type": "stream",
          "text": [
            "16\n"
          ],
          "name": "stdout"
        }
      ]
    },
    {
      "cell_type": "code",
      "metadata": {
        "colab": {
          "base_uri": "https://localhost:8080/"
        },
        "id": "TP7110VZLY2S",
        "outputId": "001027f1-df17-49a1-d63a-31983d36f36d"
      },
      "source": [
        "# Now as per lucas lehmer test for mersenne number for p. We should check for p-2 in the lucas_lehmer sequence. \n",
        "# If p-2 th index in the lucas lehmer sequence is zero then the mersenne number is a prime \n",
        "sequence_lehmer = lucas_lehmer(17)\n",
        "sequence_lehmer[15]"
      ],
      "execution_count": 8,
      "outputs": [
        {
          "output_type": "execute_result",
          "data": {
            "text/plain": [
              "0"
            ]
          },
          "metadata": {
            "tags": []
          },
          "execution_count": 8
        }
      ]
    },
    {
      "cell_type": "markdown",
      "metadata": {
        "id": "U8g0gpP1MT3b"
      },
      "source": [
        "For a given Mersenne number with exponent $p$, the number is prime if the Lucas-Lehmer series is 0 at position $p-2$. Write a function that tests if a Mersenne number with exponent $p$ is prime. Test if the Mersenne numbers with prime $p$ between 3 and 65 (i.e. 3, 5, 7, ..., 61) are prime. Your final answer should be a list of tuples consisting of `(Mersenne exponent, 0)` (or `1`) for each Mersenne number you test, where `0` and `1` are replacements for `False` and `True` respectively.\n",
        "\n",
        "**HINT:** You may want to use the [`zip`](https://docs.python.org/3/library/functions.html#zip) function which returns an iterable of tuples resulting in a pair-wise combination of two iterables (e.g., two lists)."
      ]
    },
    {
      "cell_type": "code",
      "metadata": {
        "colab": {
          "base_uri": "https://localhost:8080/"
        },
        "id": "_QKevA-rMRdy",
        "outputId": "96e15b95-cd34-40f7-db8e-78d3a0a838b7"
      },
      "source": [
        "# It is intersting problem. We need to make two seperate list of p values between 3 and 65 (which are prime)\n",
        "# In front of them we need to put 1 if at that exponent p the mersenne number is a prime. Simlarly we need to put 0 if at that exponent p \n",
        "# mesenne number is not prime \n",
        "\n",
        "def is_prime(number):\n",
        "    if(number<2):\n",
        "        return False\n",
        "    else :\n",
        "        for i in range(2,number-1):\n",
        "            if number%i == 0:\n",
        "                return False\n",
        "        return True\n",
        "\n",
        "def ll_prime(p):\n",
        "    result_prime = []\n",
        "    for i in range(3,p):\n",
        "        if(is_prime(i)):\n",
        "            result_prime.append(i)\n",
        "    return result_prime\n",
        "\n",
        "def lucas_lehmer(p):\n",
        "    n_0 = 4\n",
        "    x = (2**(p)-1)\n",
        "    ll_sequence = []\n",
        "    ll_sequence.append(n_0)\n",
        "    for i in range(1,p-1):\n",
        "        n_0 = (n_0**(2)-2)% x\n",
        "        ll_sequence.append(n_0)\n",
        "    return ll_sequence\n",
        "        \n",
        "def check_prime(p):\n",
        "    ll_sequence = lucas_lehmer(p)\n",
        "    if ll_sequence[p-2]==0:\n",
        "        return 1\n",
        "    else :\n",
        "        return 0\n",
        "\n",
        "mersenne_exponent = ll_prime(65)\n",
        "mersenne_results = []\n",
        "for i in range(0,17):\n",
        "    k = check_prime(mersenne_exponent[i])\n",
        "    mersenne_results.append(k)\n",
        "result = zip(mersenne_exponent, mersenne_results)\n",
        "result_set = list(result)\n",
        "print(result_set)"
      ],
      "execution_count": 9,
      "outputs": [
        {
          "output_type": "stream",
          "text": [
            "[(3, 1), (5, 1), (7, 1), (11, 0), (13, 1), (17, 1), (19, 1), (23, 0), (29, 0), (31, 1), (37, 0), (41, 0), (43, 0), (47, 0), (53, 0), (59, 0), (61, 1)]\n"
          ],
          "name": "stdout"
        }
      ]
    },
    {
      "cell_type": "markdown",
      "metadata": {
        "id": "NHMHzQAzOvxx"
      },
      "source": [
        "# Sieve of Eratosthenes\n",
        "\n",
        "In this we will develop an even faster method which is known as the Sieve of Eratosthenes (although it will be more expensive in terms of memory). The Sieve of Eratosthenes is an example of dynamic programming, where the general idea is to not redo computations we have already done (read more about it here). We will break this sieve down into several small functions.\n",
        "\n",
        "Our submission will be a list of all prime numbers less than 2000.\n",
        "\n",
        "The method works as follows (see here for more details)\n",
        "\n",
        "Generate a list of all numbers between 0 and N; mark the numbers 0 and 1 to be not prime\n",
        "Starting with  𝑝=2  (the first prime) mark all numbers of the form  𝑛𝑝  where  𝑛>1  and  𝑛𝑝<=𝑁  to be not prime (they can't be prime since they are multiples of 2!)\n",
        "Find the smallest number greater than  𝑝  which is not marked and set that equal to  𝑝 , then go back to step 2. Stop if there is no unmarked number greater than  𝑝  and less than  𝑁+1 \n",
        "We will break this up into a few functions, our general strategy will be to use a Python list as our container although we could use other data structures. The index of this list will represent numbers.\n",
        "\n",
        "We have implemented a sieve function which will find all the prime numbers up to  𝑛 . We will need to implement the functions which it calls. They are as follows\n",
        "\n",
        "list_true Make a list of true values of length  𝑛+1  where the first two values are false (this corresponds with step 1 of the algorithm above)\n",
        "mark_false takes a list of booleans and a number  𝑝 . Mark all elements  2𝑝,3𝑝,...𝑛  false (this corresponds with step 2 of the algorithm above)\n",
        "find_next Find the smallest True element in a list which is greater than some  𝑝  (has index greater than  𝑝  (this corresponds with step 3 of the algorithm above)\n",
        "prime_from_list Return indices of True values\n",
        "Remember that python lists are zero indexed. We have provided assertions below to help us assess whether our functions are functioning properly."
      ]
    },
    {
      "cell_type": "code",
      "metadata": {
        "id": "Tq42WRxaOpRo"
      },
      "source": [
        "def sieve(n):\n",
        " \n",
        "    # Create a boolean array\n",
        "    # \"prime[0..n]\" and initialize\n",
        "    #  all entries it as true.\n",
        "    # A value in prime[i] will\n",
        "    # finally be false if i is\n",
        "    # Not a prime, else true.\n",
        "    prime_list = []\n",
        "    prime = [True for i in range(n+1)]\n",
        "    p = 2\n",
        "    while (p * p <= n):\n",
        " \n",
        "        # If prime[p] is not\n",
        "        # changed, then it is a prime\n",
        "        if (prime[p] == True):\n",
        " \n",
        "            # Update all multiples of p\n",
        "            for i in range(p * p, n+1, p):\n",
        "                prime[i] = False\n",
        "        p += 1\n",
        " \n",
        "    # Print all prime numbers\n",
        "    for p in range(2, n+1):\n",
        "        if prime[p]:\n",
        "            prime_list.append(p)\n",
        "    return prime_list"
      ],
      "execution_count": 12,
      "outputs": []
    },
    {
      "cell_type": "code",
      "metadata": {
        "colab": {
          "base_uri": "https://localhost:8080/"
        },
        "id": "rrgyhBLOTvm_",
        "outputId": "c791e10b-3c75-41a3-c9a7-e697ba40c382"
      },
      "source": [
        "sieve(1000)"
      ],
      "execution_count": 13,
      "outputs": [
        {
          "output_type": "execute_result",
          "data": {
            "text/plain": [
              "[2,\n",
              " 3,\n",
              " 5,\n",
              " 7,\n",
              " 11,\n",
              " 13,\n",
              " 17,\n",
              " 19,\n",
              " 23,\n",
              " 29,\n",
              " 31,\n",
              " 37,\n",
              " 41,\n",
              " 43,\n",
              " 47,\n",
              " 53,\n",
              " 59,\n",
              " 61,\n",
              " 67,\n",
              " 71,\n",
              " 73,\n",
              " 79,\n",
              " 83,\n",
              " 89,\n",
              " 97,\n",
              " 101,\n",
              " 103,\n",
              " 107,\n",
              " 109,\n",
              " 113,\n",
              " 127,\n",
              " 131,\n",
              " 137,\n",
              " 139,\n",
              " 149,\n",
              " 151,\n",
              " 157,\n",
              " 163,\n",
              " 167,\n",
              " 173,\n",
              " 179,\n",
              " 181,\n",
              " 191,\n",
              " 193,\n",
              " 197,\n",
              " 199,\n",
              " 211,\n",
              " 223,\n",
              " 227,\n",
              " 229,\n",
              " 233,\n",
              " 239,\n",
              " 241,\n",
              " 251,\n",
              " 257,\n",
              " 263,\n",
              " 269,\n",
              " 271,\n",
              " 277,\n",
              " 281,\n",
              " 283,\n",
              " 293,\n",
              " 307,\n",
              " 311,\n",
              " 313,\n",
              " 317,\n",
              " 331,\n",
              " 337,\n",
              " 347,\n",
              " 349,\n",
              " 353,\n",
              " 359,\n",
              " 367,\n",
              " 373,\n",
              " 379,\n",
              " 383,\n",
              " 389,\n",
              " 397,\n",
              " 401,\n",
              " 409,\n",
              " 419,\n",
              " 421,\n",
              " 431,\n",
              " 433,\n",
              " 439,\n",
              " 443,\n",
              " 449,\n",
              " 457,\n",
              " 461,\n",
              " 463,\n",
              " 467,\n",
              " 479,\n",
              " 487,\n",
              " 491,\n",
              " 499,\n",
              " 503,\n",
              " 509,\n",
              " 521,\n",
              " 523,\n",
              " 541,\n",
              " 547,\n",
              " 557,\n",
              " 563,\n",
              " 569,\n",
              " 571,\n",
              " 577,\n",
              " 587,\n",
              " 593,\n",
              " 599,\n",
              " 601,\n",
              " 607,\n",
              " 613,\n",
              " 617,\n",
              " 619,\n",
              " 631,\n",
              " 641,\n",
              " 643,\n",
              " 647,\n",
              " 653,\n",
              " 659,\n",
              " 661,\n",
              " 673,\n",
              " 677,\n",
              " 683,\n",
              " 691,\n",
              " 701,\n",
              " 709,\n",
              " 719,\n",
              " 727,\n",
              " 733,\n",
              " 739,\n",
              " 743,\n",
              " 751,\n",
              " 757,\n",
              " 761,\n",
              " 769,\n",
              " 773,\n",
              " 787,\n",
              " 797,\n",
              " 809,\n",
              " 811,\n",
              " 821,\n",
              " 823,\n",
              " 827,\n",
              " 829,\n",
              " 839,\n",
              " 853,\n",
              " 857,\n",
              " 859,\n",
              " 863,\n",
              " 877,\n",
              " 881,\n",
              " 883,\n",
              " 887,\n",
              " 907,\n",
              " 911,\n",
              " 919,\n",
              " 929,\n",
              " 937,\n",
              " 941,\n",
              " 947,\n",
              " 953,\n",
              " 967,\n",
              " 971,\n",
              " 977,\n",
              " 983,\n",
              " 991,\n",
              " 997]"
            ]
          },
          "metadata": {
            "tags": []
          },
          "execution_count": 13
        }
      ]
    },
    {
      "cell_type": "code",
      "metadata": {
        "id": "RRu3y7_IUzmM"
      },
      "source": [
        ""
      ],
      "execution_count": null,
      "outputs": []
    }
  ]
}